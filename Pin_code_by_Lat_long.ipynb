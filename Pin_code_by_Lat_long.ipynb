{
  "nbformat": 4,
  "nbformat_minor": 0,
  "metadata": {
    "colab": {
      "provenance": []
    },
    "kernelspec": {
      "name": "python3",
      "display_name": "Python 3"
    },
    "language_info": {
      "name": "python"
    }
  },
  "cells": [
    {
      "cell_type": "code",
      "source": [
        "!pip install geopandas\n",
        "!pi install geopy"
      ],
      "metadata": {
        "colab": {
          "base_uri": "https://localhost:8080/"
        },
        "id": "1NbO4GDvNDDc",
        "outputId": "6550a3b4-91bd-4ebc-b875-947f439a8544"
      },
      "execution_count": null,
      "outputs": [
        {
          "output_type": "stream",
          "name": "stdout",
          "text": [
            "Requirement already satisfied: geopandas in /usr/local/lib/python3.10/dist-packages (0.13.2)\n",
            "Requirement already satisfied: fiona>=1.8.19 in /usr/local/lib/python3.10/dist-packages (from geopandas) (1.9.6)\n",
            "Requirement already satisfied: packaging in /usr/local/lib/python3.10/dist-packages (from geopandas) (24.0)\n",
            "Requirement already satisfied: pandas>=1.1.0 in /usr/local/lib/python3.10/dist-packages (from geopandas) (1.5.3)\n",
            "Requirement already satisfied: pyproj>=3.0.1 in /usr/local/lib/python3.10/dist-packages (from geopandas) (3.6.1)\n",
            "Requirement already satisfied: shapely>=1.7.1 in /usr/local/lib/python3.10/dist-packages (from geopandas) (2.0.3)\n",
            "Requirement already satisfied: attrs>=19.2.0 in /usr/local/lib/python3.10/dist-packages (from fiona>=1.8.19->geopandas) (23.2.0)\n",
            "Requirement already satisfied: certifi in /usr/local/lib/python3.10/dist-packages (from fiona>=1.8.19->geopandas) (2024.2.2)\n",
            "Requirement already satisfied: click~=8.0 in /usr/local/lib/python3.10/dist-packages (from fiona>=1.8.19->geopandas) (8.1.7)\n",
            "Requirement already satisfied: click-plugins>=1.0 in /usr/local/lib/python3.10/dist-packages (from fiona>=1.8.19->geopandas) (1.1.1)\n",
            "Requirement already satisfied: cligj>=0.5 in /usr/local/lib/python3.10/dist-packages (from fiona>=1.8.19->geopandas) (0.7.2)\n",
            "Requirement already satisfied: six in /usr/local/lib/python3.10/dist-packages (from fiona>=1.8.19->geopandas) (1.16.0)\n",
            "Requirement already satisfied: python-dateutil>=2.8.1 in /usr/local/lib/python3.10/dist-packages (from pandas>=1.1.0->geopandas) (2.8.2)\n",
            "Requirement already satisfied: pytz>=2020.1 in /usr/local/lib/python3.10/dist-packages (from pandas>=1.1.0->geopandas) (2023.4)\n",
            "Requirement already satisfied: numpy>=1.21.0 in /usr/local/lib/python3.10/dist-packages (from pandas>=1.1.0->geopandas) (1.25.2)\n",
            "/bin/bash: line 1: pi: command not found\n"
          ]
        }
      ]
    },
    {
      "cell_type": "code",
      "execution_count": 3,
      "metadata": {
        "colab": {
          "base_uri": "https://localhost:8080/"
        },
        "id": "D7cKo_p0Miz0",
        "outputId": "14282f8d-a151-4540-d023-c358d4c5b126"
      },
      "outputs": [
        {
          "output_type": "stream",
          "name": "stderr",
          "text": [
            "WARNING:urllib3.connectionpool:Retrying (Retry(total=1, connect=None, read=None, redirect=None, status=None)) after connection broken by 'ReadTimeoutError(\"HTTPSConnectionPool(host='nominatim.openstreetmap.org', port=443): Read timed out. (read timeout=1)\")': /reverse?lat=23.4482893&lon=87.8175147&format=json&addressdetails=1\n"
          ]
        },
        {
          "output_type": "stream",
          "name": "stdout",
          "text": [
            "Excel file with postal codes saved as 'West Bengal_with_postal_codes_1.xlsx'\n"
          ]
        }
      ],
      "source": [
        "import pandas as pd\n",
        "from geopy.geocoders import Nominatim\n",
        "from math import ceil\n",
        "\n",
        "# Load the Excel file containing latitude and longitude coordinates\n",
        "excel_file = 'West Bengal.xlsx'\n",
        "data = pd.read_excel(excel_file)\n",
        "\n",
        "# Initialize geocoder\n",
        "geolocator = Nominatim(user_agent=\"reverse_geocoding\")\n",
        "\n",
        "# Function to perform reverse geocoding for a batch of coordinates\n",
        "def get_postal_codes_batch(coordinates):\n",
        "    postal_codes = []\n",
        "    for lat, lon in coordinates:\n",
        "        try:\n",
        "            location = geolocator.reverse(tuple([lat, lon]), exactly_one=True)\n",
        "            if location:\n",
        "                address = location.raw['address']\n",
        "                postal_code = address.get('postcode')\n",
        "                postal_codes.append(postal_code)\n",
        "            else:\n",
        "                postal_codes.append(None)\n",
        "        except Exception as e:\n",
        "            print(f\"Error for coordinates ({lat}, {lon}): {e}\")\n",
        "            postal_codes.append(None)\n",
        "    return postal_codes\n",
        "\n",
        "# Batch size (adjust based on your requirements)\n",
        "batch_size = 1000\n",
        "\n",
        "# Iterate through the data in batches\n",
        "for i in range(0, len(data), batch_size):\n",
        "    batch = data.iloc[i:i+batch_size]\n",
        "    coordinates = list(zip(batch['Latitude'], batch['Longitude']))\n",
        "    postal_codes = get_postal_codes_batch(coordinates)\n",
        "    batch.loc[:, 'Postal Code'] = postal_codes\n",
        "\n",
        "    # Export the DataFrame to an Excel file\n",
        "    output_excel_file = f'West Bengal_with_postal_codes_{i//batch_size+1}.xlsx'\n",
        "    batch.to_excel(output_excel_file, index=False)\n",
        "    print(f\"Excel file with postal codes saved as '{output_excel_file}'\")"
      ]
    },
    {
      "cell_type": "code",
      "source": [],
      "metadata": {
        "id": "hxHO1OrWNlUF"
      },
      "execution_count": null,
      "outputs": []
    }
  ]
}